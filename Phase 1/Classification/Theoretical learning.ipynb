{
 "cells": [
  {
   "cell_type": "code",
   "id": "initial_id",
   "metadata": {
    "collapsed": true,
    "ExecuteTime": {
     "end_time": "2025-04-24T01:52:35.696603Z",
     "start_time": "2025-04-24T01:52:35.690033Z"
    }
   },
   "source": "print(\"Hello Monster Land\")",
   "outputs": [
    {
     "name": "stdout",
     "output_type": "stream",
     "text": [
      "Hw\n"
     ]
    }
   ],
   "execution_count": 4
  },
  {
   "metadata": {},
   "cell_type": "code",
   "outputs": [],
   "execution_count": null,
   "source": "from sklearn.linear_model import LogisticRegression",
   "id": "140c263a182a4e03"
  },
  {
   "metadata": {},
   "cell_type": "markdown",
   "source": [
    "## Logistic Regression\n",
    "    $$\n",
    "    p = sigmoid( w1 * x1 + w2 * x2 + ... + b ) \\\\\n",
    "    sigmoid(z) = 1 / (1 + e^(-z))\n",
    "    $$\n",
    "## K-Nearest Neighbors\n",
    "## Naive Bayes\n",
    "## Decision Tree\n",
    "## Random Forest\n",
    "## Support Vector Machine"
   ],
   "id": "759f4026f0cac38c"
  },
  {
   "metadata": {},
   "cell_type": "markdown",
   "source": "## Logistic Regression",
   "id": "99689c7da77be2a"
  },
  {
   "metadata": {},
   "cell_type": "code",
   "outputs": [],
   "execution_count": 5,
   "source": [
    "model = LogisticRegression(\n",
    "    solver='saga', \n",
    "    max_iter=200, \n",
    "    verbose=1\n",
    ")"
   ],
   "id": "bfcd58d61de844c6"
  },
  {
   "metadata": {},
   "cell_type": "code",
   "outputs": [],
   "execution_count": null,
   "source": "",
   "id": "836cf171715fe67c"
  }
 ],
 "metadata": {
  "kernelspec": {
   "display_name": "Python 3",
   "language": "python",
   "name": "python3"
  },
  "language_info": {
   "codemirror_mode": {
    "name": "ipython",
    "version": 2
   },
   "file_extension": ".py",
   "mimetype": "text/x-python",
   "name": "python",
   "nbconvert_exporter": "python",
   "pygments_lexer": "ipython2",
   "version": "2.7.6"
  }
 },
 "nbformat": 4,
 "nbformat_minor": 5
}
