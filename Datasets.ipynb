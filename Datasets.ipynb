{
 "cells": [
  {
   "cell_type": "code",
   "id": "initial_id",
   "metadata": {
    "collapsed": true,
    "ExecuteTime": {
     "end_time": "2025-04-24T02:50:57.132964Z",
     "start_time": "2025-04-24T02:50:56.839950Z"
    }
   },
   "source": [
    "import kagglehub\n",
    "import shutil\n",
    "import os\n",
    "\n",
    "\n",
    "\n",
    "# Download latest version\n"
   ],
   "outputs": [],
   "execution_count": 1
  },
  {
   "metadata": {
    "ExecuteTime": {
     "end_time": "2025-04-24T02:50:57.138687Z",
     "start_time": "2025-04-24T02:50:57.134005Z"
    }
   },
   "cell_type": "code",
   "source": [
    "import kagglehub\n",
    "import shutil\n",
    "import os\n",
    "\n",
    "def download_and_move_kaggle_dataset(dataset_id, target_dir, filename):\n",
    "    \"\"\"\n",
    "    下载 Kaggle 数据集到本地指定目录，并删除缓存文件夹中的副本。\n",
    "\n",
    "    参数:\n",
    "    - dataset_id: Kaggle 数据集的 ID，例如 \"uciml/iris\"\n",
    "    - target_dir: 想保存的本地目录，例如 \"./iris_data\"\n",
    "    - filename: 数据集文件名，例如 \"Iris.csv\"\n",
    "\n",
    "    返回:\n",
    "    - 新文件的完整路径\n",
    "    \"\"\"\n",
    "    # 下载数据集\n",
    "    path = kagglehub.dataset_download(dataset_id)\n",
    "\n",
    "    # 构建源文件路径和目标路径\n",
    "    source_csv = os.path.join(path, filename)\n",
    "    os.makedirs(target_dir, exist_ok=True)\n",
    "    target_csv = os.path.join(target_dir, filename)\n",
    "\n",
    "    # 复制文件到目标目录\n",
    "    shutil.copy(source_csv, target_csv)\n",
    "    print(f\"✅ 文件已保存到: {target_csv}\")\n",
    "\n",
    "    # 删除缓存下载的整个目录\n",
    "    shutil.rmtree(path)\n",
    "    print(f\"🧹 已删除原始下载目录: {path}\")\n",
    "\n",
    "    return target_csv\n",
    "\n"
   ],
   "id": "7d204acfe2ad16d6",
   "outputs": [],
   "execution_count": 2
  },
  {
   "metadata": {
    "ExecuteTime": {
     "end_time": "2025-04-24T02:50:58.586775Z",
     "start_time": "2025-04-24T02:50:58.583805Z"
    }
   },
   "cell_type": "code",
   "source": "# print(kagglehub.__version__)",
   "id": "eb57eddbc6356e39",
   "outputs": [
    {
     "name": "stdout",
     "output_type": "stream",
     "text": [
      "0.3.12\n"
     ]
    }
   ],
   "execution_count": 4
  },
  {
   "metadata": {},
   "cell_type": "markdown",
   "source": [
    "# 使用示例\n",
    "```\n",
    "csv_path = download_and_move_kaggle_dataset(\n",
    "    dataset_id=\"uciml/iris\",\n",
    "    target_dir=\"./iris_data\",\n",
    "    filename=\"Iris.csv\"\n",
    ")\n",
    "```"
   ],
   "id": "157439ba7438a998"
  },
  {
   "metadata": {},
   "cell_type": "code",
   "outputs": [],
   "execution_count": null,
   "source": [
    "# 项目内使用\n",
    "import pandas as pd\n",
    "from config.path import DATA_DIR\n",
    "\n",
    "iris_path = os.path.join(DATA_DIR, \"data/iris_data/iris.csv\")\n",
    "df = pd.read_csv(iris_path)"
   ],
   "id": "2c9cbaec3ee64bac"
  },
  {
   "metadata": {},
   "cell_type": "markdown",
   "source": "## Iris Species",
   "id": "93c7439cf6e054a4"
  },
  {
   "metadata": {},
   "cell_type": "code",
   "outputs": [
    {
     "name": "stdout",
     "output_type": "stream",
     "text": [
      "Downloading from https://www.kaggle.com/api/v1/datasets/download/uciml/iris?dataset_version_number=2...\n"
     ]
    },
    {
     "name": "stderr",
     "output_type": "stream",
     "text": [
      "100%|██████████| 3.60k/3.60k [00:00<?, ?B/s]"
     ]
    },
    {
     "name": "stdout",
     "output_type": "stream",
     "text": [
      "Extracting files...\n",
      "✅ 文件已保存到: ./iris_data\\Iris.csv\n",
      "🧹 已删除原始下载目录: C:\\Users\\Lenovo\\.cache\\kagglehub\\datasets\\uciml\\iris\\versions\\2\n"
     ]
    },
    {
     "name": "stderr",
     "output_type": "stream",
     "text": [
      "\n"
     ]
    }
   ],
   "execution_count": 3,
   "source": [
    "# csv_path = download_and_move_kaggle_dataset(\n",
    "#     dataset_id=\"uciml/iris\",\n",
    "#     target_dir=\"./iris_data\",\n",
    "#     filename=\"Iris.csv\"\n",
    "# )"
   ],
   "id": "be0121dc77474f8c"
  },
  {
   "metadata": {
    "ExecuteTime": {
     "end_time": "2025-04-24T02:50:58.589836Z",
     "start_time": "2025-04-24T02:50:58.587781Z"
    }
   },
   "cell_type": "code",
   "source": "",
   "id": "f3d935e8410abdb7",
   "outputs": [],
   "execution_count": 4
  },
  {
   "metadata": {
    "ExecuteTime": {
     "end_time": "2025-04-24T02:50:58.592251Z",
     "start_time": "2025-04-24T02:50:58.590359Z"
    }
   },
   "cell_type": "code",
   "source": "",
   "id": "4881db2ccd4cc319",
   "outputs": [],
   "execution_count": 4
  }
 ],
 "metadata": {
  "kernelspec": {
   "display_name": "Python 3",
   "language": "python",
   "name": "python3"
  },
  "language_info": {
   "codemirror_mode": {
    "name": "ipython",
    "version": 2
   },
   "file_extension": ".py",
   "mimetype": "text/x-python",
   "name": "python",
   "nbconvert_exporter": "python",
   "pygments_lexer": "ipython2",
   "version": "2.7.6"
  }
 },
 "nbformat": 4,
 "nbformat_minor": 5
}
