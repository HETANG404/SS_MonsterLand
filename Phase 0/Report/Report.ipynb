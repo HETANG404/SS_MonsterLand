{
 "cells": [
  {
   "cell_type": "code",
   "execution_count": null,
   "id": "initial_id",
   "metadata": {
    "collapsed": true
   },
   "outputs": [],
   "source": [
    ""
   ]
  },
  {
   "metadata": {},
   "cell_type": "code",
   "outputs": [],
   "execution_count": null,
   "source": [
    "# 分类报告\n",
    "print(classification_report(y_test, y_pred, target_names=le.classes_))"
   ],
   "id": "af0c64f01962e6c8"
  },
  {
   "metadata": {},
   "cell_type": "markdown",
   "source": [
    "```\n",
    "分类报告：\n",
    "                 precision    recall  f1-score   support\n",
    "\n",
    "    Iris-setosa       1.00      1.00      1.00        19\n",
    "Iris-versicolor       1.00      1.00      1.00        13\n",
    " Iris-virginica       1.00      1.00      1.00        13\n",
    "\n",
    "       accuracy                           1.00        45\n",
    "      macro avg       1.00      1.00      1.00        45\n",
    "   weighted avg       1.00      1.00      1.00        45\n",
    "```"
   ],
   "id": "c306a0d35ac4aad4"
  },
  {
   "metadata": {},
   "cell_type": "markdown",
   "source": [
    "| 指标         | 解释 |\n",
    "|--------------|------|\n",
    "| **precision**（精确率） | 正确预测为该类的样本占所有预测为该类样本的比例 |\n",
    "| **recall**（召回率）   | 正确预测为该类的样本占所有真实该类样本的比例 |\n",
    "| **f1-score** | 精确率和召回率的调和平均数（越高越好） |\n",
    "| **support**  | 每个类别在测试集中真实存在的样本数量 |"
   ],
   "id": "c74929bb5371a081"
  },
  {
   "metadata": {},
   "cell_type": "code",
   "outputs": [],
   "execution_count": null,
   "source": [
    "# 混淆矩阵\n",
    "print(confusion_matrix(y_test, y_pred))"
   ],
   "id": "6760923923c113d8"
  },
  {
   "metadata": {},
   "cell_type": "markdown",
   "source": [
    "```\n",
    "混淆矩阵：\n",
    "[[19  0  0]\n",
    " [ 0 13  0]\n",
    " [ 0  0 13]]\n",
    "```"
   ],
   "id": "d433813616830c5b"
  },
  {
   "metadata": {},
   "cell_type": "markdown",
   "source": [
    "行是实际值（真实类别）  \n",
    "列是预测值"
   ],
   "id": "b9211576c2a8686c"
  },
  {
   "metadata": {},
   "cell_type": "code",
   "outputs": [],
   "execution_count": null,
   "source": "",
   "id": "93b6cff9a3a743ff"
  }
 ],
 "metadata": {
  "kernelspec": {
   "display_name": "Python 3",
   "language": "python",
   "name": "python3"
  },
  "language_info": {
   "codemirror_mode": {
    "name": "ipython",
    "version": 2
   },
   "file_extension": ".py",
   "mimetype": "text/x-python",
   "name": "python",
   "nbconvert_exporter": "python",
   "pygments_lexer": "ipython2",
   "version": "2.7.6"
  }
 },
 "nbformat": 4,
 "nbformat_minor": 5
}
