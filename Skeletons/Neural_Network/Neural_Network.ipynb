{
 "cells": [
  {
   "cell_type": "code",
   "id": "initial_id",
   "metadata": {
    "collapsed": true,
    "ExecuteTime": {
     "end_time": "2025-01-09T11:30:17.793181Z",
     "start_time": "2025-01-09T11:30:17.784112Z"
    }
   },
   "source": [
    "import numpy as np\n",
    "import matplotlib.pyplot as plt\n",
    "import pandas as pd\n",
    "import torch.optim as optim\n",
    "from torch import nn\n",
    "from sklearn.preprocessing import StandardScaler\n",
    "import torch\n",
    "import os\n",
    "from config import DATA_DIR\n",
    "from sklearn.model_selection import train_test_split"
   ],
   "outputs": [],
   "execution_count": 140
  },
  {
   "metadata": {
    "ExecuteTime": {
     "end_time": "2025-01-09T11:30:19.485937Z",
     "start_time": "2025-01-09T11:30:17.793181Z"
    }
   },
   "cell_type": "code",
   "source": [
    "datapath = os.path.join(DATA_DIR, 'Credit Card Fraud Detection Dataset 2023/creditcard_2023.csv')\n",
    "data = pd.read_csv(datapath)\n",
    "\n",
    "print(data.tail())\n",
    "print(data.shape)"
   ],
   "id": "cf22982b72439ca6",
   "outputs": [
    {
     "name": "stdout",
     "output_type": "stream",
     "text": [
      "            id        V1        V2        V3        V4        V5        V6  \\\n",
      "568625  568625 -0.833437  0.061886 -0.899794  0.904227 -1.002401  0.481454   \n",
      "568626  568626 -0.670459 -0.202896 -0.068129 -0.267328 -0.133660  0.237148   \n",
      "568627  568627 -0.311997 -0.004095  0.137526 -0.035893 -0.042291  0.121098   \n",
      "568628  568628  0.636871 -0.516970 -0.300889 -0.144480  0.131042 -0.294148   \n",
      "568629  568629 -0.795144  0.433236 -0.649140  0.374732 -0.244976 -0.603493   \n",
      "\n",
      "              V7        V8        V9  ...       V21       V22       V23  \\\n",
      "568625 -0.370393  0.189694 -0.938153  ...  0.167503  0.419731  1.288249   \n",
      "568626 -0.016935 -0.147733  0.483894  ...  0.031874  0.388161 -0.154257   \n",
      "568627 -0.070958 -0.019997 -0.122048  ...  0.140788  0.536523 -0.211100   \n",
      "568628  0.580568 -0.207723  0.893527  ... -0.060381 -0.195609 -0.175488   \n",
      "568629 -0.347613 -0.340814  0.253971  ...  0.534853 -0.291514  0.157303   \n",
      "\n",
      "             V24       V25       V26       V27       V28    Amount  Class  \n",
      "568625 -0.900861  0.560661 -0.006018  3.308968  0.081564   4394.16      1  \n",
      "568626 -0.846452 -0.153443  1.961398 -1.528642  1.704306   4653.40      1  \n",
      "568627 -0.448909  0.540073 -0.755836 -0.487540 -0.268741  23572.85      1  \n",
      "568628 -0.554643 -0.099669 -1.434931 -0.159269 -0.076251  10160.83      1  \n",
      "568629  0.931030 -0.349423 -1.090974 -1.575113  0.722936  21493.92      1  \n",
      "\n",
      "[5 rows x 31 columns]\n",
      "(568630, 31)\n"
     ]
    }
   ],
   "execution_count": 141
  },
  {
   "metadata": {
    "ExecuteTime": {
     "end_time": "2025-01-09T11:30:19.489735Z",
     "start_time": "2025-01-09T11:30:19.485937Z"
    }
   },
   "cell_type": "code",
   "source": [
    "def Standardize(X_train, X_test):\n",
    "    scaler = StandardScaler()\n",
    "    X_train = scaler.fit_transform(X_train)\n",
    "    X_test = scaler.transform(X_test)\n",
    "    return X_train, X_test"
   ],
   "id": "6190768befacd4b4",
   "outputs": [],
   "execution_count": 142
  },
  {
   "metadata": {
    "ExecuteTime": {
     "end_time": "2025-01-09T11:30:19.846953Z",
     "start_time": "2025-01-09T11:30:19.490240Z"
    }
   },
   "cell_type": "code",
   "source": [
    "X = data.iloc[:,:-1]\n",
    "y = data.iloc[:,-1]\n",
    "\n",
    "X_train, X_test, y_train, y_test = train_test_split(X, y, test_size=0.2, random_state=7)\n",
    "\n",
    "print(X_train.shape, X_test.shape, y_train.shape, y_test.shape)\n",
    "\n",
    "print(type(X_train), type(X_test), type(y_train), type(y_test))\n",
    "\n",
    "X_train,X_test = Standardize(X_train,X_test)\n",
    "\n",
    "\n",
    "print(y_train.dtype)  # 检查 y_train 的数据类型\n",
    "print(y_test.dtype)   # 检查 y_test 的数据类型\n",
    "\n",
    "\n",
    "X_train = torch.tensor(X_train,dtype=torch.float)\n",
    "X_test = torch.tensor(X_test,dtype=torch.float)\n",
    "y_train = torch.tensor(y_train.to_numpy(), dtype=torch.int64)\n",
    "y_test = torch.tensor(y_test.to_numpy(), dtype=torch.int64)\n",
    "\n"
   ],
   "id": "31cdc4163d2600be",
   "outputs": [
    {
     "name": "stdout",
     "output_type": "stream",
     "text": [
      "(454904, 30) (113726, 30) (454904,) (113726,)\n",
      "<class 'pandas.core.frame.DataFrame'> <class 'pandas.core.frame.DataFrame'> <class 'pandas.core.series.Series'> <class 'pandas.core.series.Series'>\n",
      "int64\n",
      "int64\n"
     ]
    }
   ],
   "execution_count": 143
  },
  {
   "metadata": {
    "ExecuteTime": {
     "end_time": "2025-01-09T11:30:19.852619Z",
     "start_time": "2025-01-09T11:30:19.848512Z"
    }
   },
   "cell_type": "code",
   "source": [
    "class SimpleNN(nn.Module):\n",
    "    def __init__(self, n_features):\n",
    "        super(SimpleNN, self).__init__()\n",
    "        self.fc1 = nn.Linear(n_features, 50)\n",
    "        self.fc2 = nn.Linear(50, 60)\n",
    "        self.fc3 = nn.Linear(60, 70)\n",
    "        self.fc4 = nn.Linear(70, 80)\n",
    "        self.relu = nn.ReLU()\n",
    "        \n",
    "    def forward(self, x):\n",
    "        x = self.relu(self.fc1(x))\n",
    "        x = self.relu(self.fc2(x))\n",
    "        x = self.relu(self.fc3(x))\n",
    "        x = self.fc4(x)\n",
    "        return x"
   ],
   "id": "87c3162258d3bb81",
   "outputs": [],
   "execution_count": 144
  },
  {
   "metadata": {
    "ExecuteTime": {
     "end_time": "2025-01-09T11:30:19.874205Z",
     "start_time": "2025-01-09T11:30:19.853453Z"
    }
   },
   "cell_type": "code",
   "source": [
    "def train_model(model, X_train, y_train,optimizer, criterion, epochs=120):\n",
    "    model.train()\n",
    "    \n",
    "    history = {\"loss\":[],\"acc\":[]}\n",
    "    \n",
    "    for epoch in range(epochs):\n",
    "        optimizer.zero_grad()\n",
    "        \n",
    "        outputs = model(X_train)\n",
    "        \n",
    "        loss = criterion(outputs, y_train)\n",
    "        loss.backward()\n",
    "        optimizer.step()\n",
    "        \n",
    "        probs = torch.softmax(outputs, dim=1)\n",
    "        _, predicted = torch.max(probs.data, 1)\n",
    "        \n",
    "        correct = torch.sum(predicted == y_train)\n",
    "        accuracy = correct/len(y_train)\n",
    "        \n",
    "        history[\"loss\"].append(loss.item())\n",
    "        history[\"acc\"].append(accuracy)\n",
    "        \n",
    "        print(f\"epoch: {epoch}, loss: {loss.item():.4f}, acc: {accuracy:.4f}\")\n",
    "        \n",
    "    return history\n",
    "        "
   ],
   "id": "8e9f7f2837d9ced8",
   "outputs": [],
   "execution_count": 145
  },
  {
   "metadata": {
    "ExecuteTime": {
     "end_time": "2025-01-09T11:30:19.882935Z",
     "start_time": "2025-01-09T11:30:19.874205Z"
    }
   },
   "cell_type": "code",
   "source": [
    "def test_model(model, X_test, y_test, criterion):\n",
    "    model.eval()\n",
    "    \n",
    "    \n",
    "    \n",
    "    with torch.no_grad():\n",
    "        outputs = model(X_test)\n",
    "        loss = criterion(outputs, y_test)\n",
    "        _, predicted = torch.max(outputs.data, 1)\n",
    "        correct = torch.sum(predicted == y_test)\n",
    "        accuracy = correct/len(y_test)\n",
    "        \n",
    "        history[\"loss\"].append(loss.item())\n",
    "        history[\"acc\"].append(accuracy)\n",
    "        \n",
    "        print(f\"loss: {loss.item()},Accuracy: {accuracy:.4f}\")\n",
    "        \n",
    "        return loss, accuracy\n",
    "        "
   ],
   "id": "22f8cc1dce4b08cd",
   "outputs": [],
   "execution_count": 146
  },
  {
   "metadata": {
    "ExecuteTime": {
     "end_time": "2025-01-09T11:30:19.896303Z",
     "start_time": "2025-01-09T11:30:19.882935Z"
    }
   },
   "cell_type": "code",
   "source": [
    "def plot(history):\n",
    "    plt.subplots(figsize=(10, 5))\n",
    "    plt.plot(history['loss'], label='loss')\n",
    "    plt.plot(history['acc'], label='acc')\n",
    "    plt.title('Training and validation loss and accuracy')\n",
    "    plt.xlabel('Epochs')\n",
    "    plt.ylabel('Loss')\n",
    "    plt.legend()\n",
    "    plt.show()"
   ],
   "id": "904d1ebec14e4b5b",
   "outputs": [],
   "execution_count": 147
  },
  {
   "metadata": {
    "ExecuteTime": {
     "end_time": "2025-01-09T11:31:07.034467Z",
     "start_time": "2025-01-09T11:30:19.896303Z"
    }
   },
   "cell_type": "code",
   "source": [
    "model = SimpleNN(X_train.shape[1])\n",
    "#定义损失函数模型\n",
    "criterion = nn.CrossEntropyLoss()\n",
    "#定义权重偏置模型\n",
    "optimizer = optim.Adam(model.parameters(), lr=0.001)\n",
    "\n",
    "print(\"training model\")\n",
    "history = train_model(model, X_train,y_train,optimizer,criterion)\n",
    "\n",
    "plot(history)\n",
    "\n",
    "print(\"testing model\")\n",
    "test_model(model, X_test, y_test, criterion)"
   ],
   "id": "2ecfa75e865e0880",
   "outputs": [
    {
     "name": "stdout",
     "output_type": "stream",
     "text": [
      "training model\n",
      "epoch: 0, loss: 4.4037, acc: 0.0000\n",
      "epoch: 1, loss: 4.3811, acc: 0.0000\n",
      "epoch: 2, loss: 4.3589, acc: 0.0000\n",
      "epoch: 3, loss: 4.3365, acc: 0.0000\n",
      "epoch: 4, loss: 4.3135, acc: 0.0002\n",
      "epoch: 5, loss: 4.2894, acc: 0.0037\n",
      "epoch: 6, loss: 4.2638, acc: 0.0516\n",
      "epoch: 7, loss: 4.2363, acc: 0.2208\n",
      "epoch: 8, loss: 4.2064, acc: 0.4875\n",
      "epoch: 9, loss: 4.1738, acc: 0.7167\n",
      "epoch: 10, loss: 4.1380, acc: 0.8371\n",
      "epoch: 11, loss: 4.0986, acc: 0.8707\n",
      "epoch: 12, loss: 4.0550, acc: 0.8715\n",
      "epoch: 13, loss: 4.0067, acc: 0.8664\n",
      "epoch: 14, loss: 3.9530, acc: 0.8612\n",
      "epoch: 15, loss: 3.8932, acc: 0.8568\n",
      "epoch: 16, loss: 3.8266, acc: 0.8533\n",
      "epoch: 17, loss: 3.7525, acc: 0.8503\n",
      "epoch: 18, loss: 3.6701, acc: 0.8482\n",
      "epoch: 19, loss: 3.5785, acc: 0.8465\n",
      "epoch: 20, loss: 3.4769, acc: 0.8455\n",
      "epoch: 21, loss: 3.3644, acc: 0.8449\n",
      "epoch: 22, loss: 3.2403, acc: 0.8451\n",
      "epoch: 23, loss: 3.1036, acc: 0.8456\n",
      "epoch: 24, loss: 2.9538, acc: 0.8465\n",
      "epoch: 25, loss: 2.7907, acc: 0.8478\n",
      "epoch: 26, loss: 2.6144, acc: 0.8491\n",
      "epoch: 27, loss: 2.4257, acc: 0.8506\n",
      "epoch: 28, loss: 2.2263, acc: 0.8522\n",
      "epoch: 29, loss: 2.0193, acc: 0.8542\n",
      "epoch: 30, loss: 1.8091, acc: 0.8564\n",
      "epoch: 31, loss: 1.6010, acc: 0.8589\n",
      "epoch: 32, loss: 1.4009, acc: 0.8617\n",
      "epoch: 33, loss: 1.2144, acc: 0.8649\n",
      "epoch: 34, loss: 1.0464, acc: 0.8685\n",
      "epoch: 35, loss: 0.8999, acc: 0.8727\n",
      "epoch: 36, loss: 0.7761, acc: 0.8768\n",
      "epoch: 37, loss: 0.6743, acc: 0.8812\n",
      "epoch: 38, loss: 0.5919, acc: 0.8855\n",
      "epoch: 39, loss: 0.5259, acc: 0.8938\n",
      "epoch: 40, loss: 0.4730, acc: 0.8998\n",
      "epoch: 41, loss: 0.4306, acc: 0.9027\n",
      "epoch: 42, loss: 0.3965, acc: 0.9050\n",
      "epoch: 43, loss: 0.3690, acc: 0.9069\n",
      "epoch: 44, loss: 0.3464, acc: 0.9083\n",
      "epoch: 45, loss: 0.3275, acc: 0.9094\n",
      "epoch: 46, loss: 0.3110, acc: 0.9103\n",
      "epoch: 47, loss: 0.2962, acc: 0.9110\n",
      "epoch: 48, loss: 0.2826, acc: 0.9113\n",
      "epoch: 49, loss: 0.2699, acc: 0.9115\n",
      "epoch: 50, loss: 0.2582, acc: 0.9114\n",
      "epoch: 51, loss: 0.2476, acc: 0.9114\n",
      "epoch: 52, loss: 0.2381, acc: 0.9113\n",
      "epoch: 53, loss: 0.2296, acc: 0.9113\n",
      "epoch: 54, loss: 0.2219, acc: 0.9114\n",
      "epoch: 55, loss: 0.2146, acc: 0.9117\n",
      "epoch: 56, loss: 0.2074, acc: 0.9123\n",
      "epoch: 57, loss: 0.2002, acc: 0.9134\n",
      "epoch: 58, loss: 0.1929, acc: 0.9151\n",
      "epoch: 59, loss: 0.1858, acc: 0.9174\n",
      "epoch: 60, loss: 0.1789, acc: 0.9203\n",
      "epoch: 61, loss: 0.1724, acc: 0.9239\n",
      "epoch: 62, loss: 0.1664, acc: 0.9280\n",
      "epoch: 63, loss: 0.1608, acc: 0.9322\n",
      "epoch: 64, loss: 0.1555, acc: 0.9363\n",
      "epoch: 65, loss: 0.1505, acc: 0.9398\n",
      "epoch: 66, loss: 0.1456, acc: 0.9426\n",
      "epoch: 67, loss: 0.1408, acc: 0.9448\n",
      "epoch: 68, loss: 0.1362, acc: 0.9465\n",
      "epoch: 69, loss: 0.1318, acc: 0.9480\n",
      "epoch: 70, loss: 0.1277, acc: 0.9494\n",
      "epoch: 71, loss: 0.1238, acc: 0.9508\n",
      "epoch: 72, loss: 0.1200, acc: 0.9523\n",
      "epoch: 73, loss: 0.1163, acc: 0.9539\n",
      "epoch: 74, loss: 0.1128, acc: 0.9558\n",
      "epoch: 75, loss: 0.1093, acc: 0.9576\n",
      "epoch: 76, loss: 0.1060, acc: 0.9594\n",
      "epoch: 77, loss: 0.1028, acc: 0.9611\n",
      "epoch: 78, loss: 0.0998, acc: 0.9627\n",
      "epoch: 79, loss: 0.0969, acc: 0.9642\n",
      "epoch: 80, loss: 0.0940, acc: 0.9655\n",
      "epoch: 81, loss: 0.0913, acc: 0.9667\n",
      "epoch: 82, loss: 0.0887, acc: 0.9678\n",
      "epoch: 83, loss: 0.0861, acc: 0.9687\n",
      "epoch: 84, loss: 0.0836, acc: 0.9696\n",
      "epoch: 85, loss: 0.0813, acc: 0.9703\n",
      "epoch: 86, loss: 0.0790, acc: 0.9711\n",
      "epoch: 87, loss: 0.0768, acc: 0.9718\n",
      "epoch: 88, loss: 0.0747, acc: 0.9726\n",
      "epoch: 89, loss: 0.0727, acc: 0.9734\n",
      "epoch: 90, loss: 0.0707, acc: 0.9742\n",
      "epoch: 91, loss: 0.0688, acc: 0.9751\n",
      "epoch: 92, loss: 0.0669, acc: 0.9759\n",
      "epoch: 93, loss: 0.0652, acc: 0.9767\n",
      "epoch: 94, loss: 0.0634, acc: 0.9774\n",
      "epoch: 95, loss: 0.0618, acc: 0.9781\n",
      "epoch: 96, loss: 0.0602, acc: 0.9789\n",
      "epoch: 97, loss: 0.0587, acc: 0.9795\n",
      "epoch: 98, loss: 0.0572, acc: 0.9800\n",
      "epoch: 99, loss: 0.0558, acc: 0.9806\n",
      "epoch: 100, loss: 0.0544, acc: 0.9810\n",
      "epoch: 101, loss: 0.0531, acc: 0.9815\n",
      "epoch: 102, loss: 0.0518, acc: 0.9820\n",
      "epoch: 103, loss: 0.0506, acc: 0.9824\n",
      "epoch: 104, loss: 0.0494, acc: 0.9829\n",
      "epoch: 105, loss: 0.0483, acc: 0.9834\n",
      "epoch: 106, loss: 0.0472, acc: 0.9838\n",
      "epoch: 107, loss: 0.0461, acc: 0.9842\n",
      "epoch: 108, loss: 0.0451, acc: 0.9845\n",
      "epoch: 109, loss: 0.0441, acc: 0.9850\n",
      "epoch: 110, loss: 0.0432, acc: 0.9853\n",
      "epoch: 111, loss: 0.0422, acc: 0.9857\n",
      "epoch: 112, loss: 0.0414, acc: 0.9860\n",
      "epoch: 113, loss: 0.0405, acc: 0.9863\n",
      "epoch: 114, loss: 0.0397, acc: 0.9866\n",
      "epoch: 115, loss: 0.0388, acc: 0.9869\n",
      "epoch: 116, loss: 0.0381, acc: 0.9872\n",
      "epoch: 117, loss: 0.0373, acc: 0.9874\n",
      "epoch: 118, loss: 0.0366, acc: 0.9877\n",
      "epoch: 119, loss: 0.0358, acc: 0.9879\n"
     ]
    },
    {
     "data": {
      "text/plain": [
       "<Figure size 1000x500 with 1 Axes>"
      ],
      "image/png": "[encoded data removed]"
     },
     "metadata": {},
     "output_type": "display_data"
    },
    {
     "name": "stdout",
     "output_type": "stream",
     "text": [
      "testing model\n",
      "loss: 0.03618934378027916,Accuracy: 0.9879\n"
     ]
    },
    {
     "data": {
      "text/plain": [
       "(tensor(0.0362), tensor(0.9879))"
      ]
     },
     "execution_count": 148,
     "metadata": {},
     "output_type": "execute_result"
    }
   ],
   "execution_count": 148
  }
 ],
 "metadata": {
  "kernelspec": {
   "display_name": "Python 3",
   "language": "python",
   "name": "python3"
  },
  "language_info": {
   "codemirror_mode": {
    "name": "ipython",
    "version": 2
   },
   "file_extension": ".py",
   "mimetype": "text/x-python",
   "name": "python",
   "nbconvert_exporter": "python",
   "pygments_lexer": "ipython2",
   "version": "2.7.6"
  }
 },
 "nbformat": 4,
 "nbformat_minor": 5
}
