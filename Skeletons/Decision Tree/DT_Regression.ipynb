{
 "cells": [
  {
   "cell_type": "code",
   "id": "initial_id",
   "metadata": {
    "collapsed": true,
    "ExecuteTime": {
     "end_time": "2025-01-06T09:10:31.165867Z",
     "start_time": "2025-01-06T09:10:31.162648Z"
    }
   },
   "source": [
    "import pandas as pd\n",
    "from sklearn.tree import DecisionTreeRegressor\n",
    "import os\n",
    "from config import DATA_DIR\n",
    "from sklearn.model_selection import train_test_split\n",
    "from sklearn.metrics import mean_squared_error, r2_score"
   ],
   "outputs": [],
   "execution_count": 21
  },
  {
   "metadata": {
    "ExecuteTime": {
     "end_time": "2025-01-06T09:10:31.185933Z",
     "start_time": "2025-01-06T09:10:31.180386Z"
    }
   },
   "cell_type": "code",
   "source": [
    "boston_path = iris_path = os.path.join(DATA_DIR, 'Boston Housing Dataset/BostonHousing.csv')\n",
    "df_boston = pd.read_csv(boston_path)\n",
    "df_boston.head()\n",
    "\n",
    "print(\"feathers name: \",df_boston.columns.tolist())\n"
   ],
   "id": "7d25bcd0ed866cba",
   "outputs": [
    {
     "name": "stdout",
     "output_type": "stream",
     "text": [
      "feathers name:  ['crim', 'zn', 'indus', 'chas', 'nox', 'rm', 'age', 'dis', 'rad', 'tax', 'ptratio', 'b', 'lstat', 'medv']\n"
     ]
    }
   ],
   "execution_count": 22
  },
  {
   "metadata": {
    "ExecuteTime": {
     "end_time": "2025-01-06T09:10:31.195351Z",
     "start_time": "2025-01-06T09:10:31.185933Z"
    }
   },
   "cell_type": "code",
   "source": [
    "X = df_boston.iloc[:, :-1].values\n",
    "y = df_boston.iloc[:, -1].values\n",
    "X_train,X_test,y_train,y_test = train_test_split(X, y, test_size=0.2, random_state=7)\n",
    "\n",
    "regressor = DecisionTreeRegressor(random_state=7)\n",
    "regressor.fit(X_train, y_train)\n",
    "y_pred = regressor.predict(X_test)\n"
   ],
   "id": "cab1aa638696c968",
   "outputs": [],
   "execution_count": 23
  },
  {
   "metadata": {
    "ExecuteTime": {
     "end_time": "2025-01-06T09:10:31.200429Z",
     "start_time": "2025-01-06T09:10:31.195860Z"
    }
   },
   "cell_type": "code",
   "source": [
    "mse = mean_squared_error(y_test,y_pred)\n",
    "r2 = r2_score(y_test,y_pred)\n",
    "print(\"MSE: \",mse)\n",
    "print(\"R2: \",r2)"
   ],
   "id": "5e5b099b019f4f22",
   "outputs": [
    {
     "name": "stdout",
     "output_type": "stream",
     "text": [
      "MSE:  31.98676470588235\n",
      "R2:  0.6041548678362685\n"
     ]
    }
   ],
   "execution_count": 24
  }
 ],
 "metadata": {
  "kernelspec": {
   "display_name": "Python 3",
   "language": "python",
   "name": "python3"
  },
  "language_info": {
   "codemirror_mode": {
    "name": "ipython",
    "version": 2
   },
   "file_extension": ".py",
   "mimetype": "text/x-python",
   "name": "python",
   "nbconvert_exporter": "python",
   "pygments_lexer": "ipython2",
   "version": "2.7.6"
  }
 },
 "nbformat": 4,
 "nbformat_minor": 5
}
